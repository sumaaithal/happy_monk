{
 "cells": [
  {
   "cell_type": "markdown",
   "metadata": {},
   "source": [
    "# iris"
   ]
  },
  {
   "cell_type": "code",
   "execution_count": 74,
   "metadata": {},
   "outputs": [],
   "source": [
    "import pandas as pd\n",
    "import numpy as np\n",
    "import matplotlib.pyplot as plt\n",
    "import seaborn as sns\n",
    "from sklearn.model_selection import train_test_split\n",
    "from sklearn.preprocessing import MinMaxScaler\n",
    "import tensorflow as tf\n",
    "from tensorflow.keras.models import Sequential\n",
    "from tensorflow.keras.layers import Dense,Activation,Dropout\n",
    "from keras.callbacks import EarlyStopping\n",
    "from sklearn.metrics import f1_score"
   ]
  },
  {
   "cell_type": "code",
   "execution_count": 2,
   "metadata": {},
   "outputs": [],
   "source": [
    "iris_df = pd.read_csv(\"C:/Users/USER/Desktop/happy_monk/iris.csv\")"
   ]
  },
  {
   "cell_type": "code",
   "execution_count": 3,
   "metadata": {},
   "outputs": [
    {
     "data": {
      "text/html": [
       "<div>\n",
       "<style scoped>\n",
       "    .dataframe tbody tr th:only-of-type {\n",
       "        vertical-align: middle;\n",
       "    }\n",
       "\n",
       "    .dataframe tbody tr th {\n",
       "        vertical-align: top;\n",
       "    }\n",
       "\n",
       "    .dataframe thead th {\n",
       "        text-align: right;\n",
       "    }\n",
       "</style>\n",
       "<table border=\"1\" class=\"dataframe\">\n",
       "  <thead>\n",
       "    <tr style=\"text-align: right;\">\n",
       "      <th></th>\n",
       "      <th>sepal_length</th>\n",
       "      <th>sepal_width</th>\n",
       "      <th>petal_length</th>\n",
       "      <th>petal_width</th>\n",
       "      <th>species</th>\n",
       "    </tr>\n",
       "  </thead>\n",
       "  <tbody>\n",
       "    <tr>\n",
       "      <th>0</th>\n",
       "      <td>5.1</td>\n",
       "      <td>3.5</td>\n",
       "      <td>1.4</td>\n",
       "      <td>0.2</td>\n",
       "      <td>setosa</td>\n",
       "    </tr>\n",
       "    <tr>\n",
       "      <th>1</th>\n",
       "      <td>4.9</td>\n",
       "      <td>3.0</td>\n",
       "      <td>1.4</td>\n",
       "      <td>0.2</td>\n",
       "      <td>setosa</td>\n",
       "    </tr>\n",
       "    <tr>\n",
       "      <th>2</th>\n",
       "      <td>4.7</td>\n",
       "      <td>3.2</td>\n",
       "      <td>1.3</td>\n",
       "      <td>0.2</td>\n",
       "      <td>setosa</td>\n",
       "    </tr>\n",
       "    <tr>\n",
       "      <th>3</th>\n",
       "      <td>4.6</td>\n",
       "      <td>3.1</td>\n",
       "      <td>1.5</td>\n",
       "      <td>0.2</td>\n",
       "      <td>setosa</td>\n",
       "    </tr>\n",
       "    <tr>\n",
       "      <th>4</th>\n",
       "      <td>5.0</td>\n",
       "      <td>3.6</td>\n",
       "      <td>1.4</td>\n",
       "      <td>0.2</td>\n",
       "      <td>setosa</td>\n",
       "    </tr>\n",
       "  </tbody>\n",
       "</table>\n",
       "</div>"
      ],
      "text/plain": [
       "   sepal_length  sepal_width  petal_length  petal_width species\n",
       "0           5.1          3.5           1.4          0.2  setosa\n",
       "1           4.9          3.0           1.4          0.2  setosa\n",
       "2           4.7          3.2           1.3          0.2  setosa\n",
       "3           4.6          3.1           1.5          0.2  setosa\n",
       "4           5.0          3.6           1.4          0.2  setosa"
      ]
     },
     "execution_count": 3,
     "metadata": {},
     "output_type": "execute_result"
    }
   ],
   "source": [
    "iris_df.head()"
   ]
  },
  {
   "cell_type": "code",
   "execution_count": 4,
   "metadata": {},
   "outputs": [
    {
     "data": {
      "text/plain": [
       "array(['setosa', 'versicolor', 'virginica'], dtype=object)"
      ]
     },
     "execution_count": 4,
     "metadata": {},
     "output_type": "execute_result"
    }
   ],
   "source": [
    "iris_df['species'].unique()"
   ]
  },
  {
   "cell_type": "code",
   "execution_count": 5,
   "metadata": {},
   "outputs": [
    {
     "data": {
      "text/html": [
       "<div>\n",
       "<style scoped>\n",
       "    .dataframe tbody tr th:only-of-type {\n",
       "        vertical-align: middle;\n",
       "    }\n",
       "\n",
       "    .dataframe tbody tr th {\n",
       "        vertical-align: top;\n",
       "    }\n",
       "\n",
       "    .dataframe thead th {\n",
       "        text-align: right;\n",
       "    }\n",
       "</style>\n",
       "<table border=\"1\" class=\"dataframe\">\n",
       "  <thead>\n",
       "    <tr style=\"text-align: right;\">\n",
       "      <th></th>\n",
       "      <th>sepal_length</th>\n",
       "      <th>sepal_width</th>\n",
       "      <th>petal_length</th>\n",
       "      <th>petal_width</th>\n",
       "    </tr>\n",
       "  </thead>\n",
       "  <tbody>\n",
       "    <tr>\n",
       "      <th>count</th>\n",
       "      <td>150.000000</td>\n",
       "      <td>150.000000</td>\n",
       "      <td>150.000000</td>\n",
       "      <td>150.000000</td>\n",
       "    </tr>\n",
       "    <tr>\n",
       "      <th>mean</th>\n",
       "      <td>5.843333</td>\n",
       "      <td>3.057333</td>\n",
       "      <td>3.758000</td>\n",
       "      <td>1.199333</td>\n",
       "    </tr>\n",
       "    <tr>\n",
       "      <th>std</th>\n",
       "      <td>0.828066</td>\n",
       "      <td>0.435866</td>\n",
       "      <td>1.765298</td>\n",
       "      <td>0.762238</td>\n",
       "    </tr>\n",
       "    <tr>\n",
       "      <th>min</th>\n",
       "      <td>4.300000</td>\n",
       "      <td>2.000000</td>\n",
       "      <td>1.000000</td>\n",
       "      <td>0.100000</td>\n",
       "    </tr>\n",
       "    <tr>\n",
       "      <th>25%</th>\n",
       "      <td>5.100000</td>\n",
       "      <td>2.800000</td>\n",
       "      <td>1.600000</td>\n",
       "      <td>0.300000</td>\n",
       "    </tr>\n",
       "    <tr>\n",
       "      <th>50%</th>\n",
       "      <td>5.800000</td>\n",
       "      <td>3.000000</td>\n",
       "      <td>4.350000</td>\n",
       "      <td>1.300000</td>\n",
       "    </tr>\n",
       "    <tr>\n",
       "      <th>75%</th>\n",
       "      <td>6.400000</td>\n",
       "      <td>3.300000</td>\n",
       "      <td>5.100000</td>\n",
       "      <td>1.800000</td>\n",
       "    </tr>\n",
       "    <tr>\n",
       "      <th>max</th>\n",
       "      <td>7.900000</td>\n",
       "      <td>4.400000</td>\n",
       "      <td>6.900000</td>\n",
       "      <td>2.500000</td>\n",
       "    </tr>\n",
       "  </tbody>\n",
       "</table>\n",
       "</div>"
      ],
      "text/plain": [
       "       sepal_length  sepal_width  petal_length  petal_width\n",
       "count    150.000000   150.000000    150.000000   150.000000\n",
       "mean       5.843333     3.057333      3.758000     1.199333\n",
       "std        0.828066     0.435866      1.765298     0.762238\n",
       "min        4.300000     2.000000      1.000000     0.100000\n",
       "25%        5.100000     2.800000      1.600000     0.300000\n",
       "50%        5.800000     3.000000      4.350000     1.300000\n",
       "75%        6.400000     3.300000      5.100000     1.800000\n",
       "max        7.900000     4.400000      6.900000     2.500000"
      ]
     },
     "execution_count": 5,
     "metadata": {},
     "output_type": "execute_result"
    }
   ],
   "source": [
    "iris_df.describe()"
   ]
  },
  {
   "cell_type": "code",
   "execution_count": 6,
   "metadata": {},
   "outputs": [],
   "source": [
    "#visulization"
   ]
  },
  {
   "cell_type": "code",
   "execution_count": 7,
   "metadata": {},
   "outputs": [
    {
     "name": "stderr",
     "output_type": "stream",
     "text": [
      "C:\\Users\\USER\\anaconda3\\envs\\Keras\\lib\\site-packages\\seaborn\\_decorators.py:43: FutureWarning: Pass the following variable as a keyword arg: x. From version 0.12, the only valid positional argument will be `data`, and passing other arguments without an explicit keyword will result in an error or misinterpretation.\n",
      "  FutureWarning\n"
     ]
    },
    {
     "data": {
      "text/plain": [
       "<AxesSubplot:xlabel='species', ylabel='count'>"
      ]
     },
     "execution_count": 7,
     "metadata": {},
     "output_type": "execute_result"
    },
    {
     "data": {
      "image/png": "[encoded data removed]",
      "text/plain": [
       "<Figure size 432x288 with 1 Axes>"
      ]
     },
     "metadata": {
      "needs_background": "light"
     },
     "output_type": "display_data"
    }
   ],
   "source": [
    "sns.countplot(iris_df['species'])"
   ]
  },
  {
   "cell_type": "code",
   "execution_count": 8,
   "metadata": {},
   "outputs": [],
   "source": [
    "#iris_df.columns"
   ]
  },
  {
   "cell_type": "code",
   "execution_count": 9,
   "metadata": {},
   "outputs": [],
   "source": [
    "#iris_new_df = iris_df[['sepal_length', 'sepal_width', 'petal_length', 'petal_width']]"
   ]
  },
  {
   "cell_type": "code",
   "execution_count": 10,
   "metadata": {},
   "outputs": [],
   "source": [
    "#iris_new_df.head()"
   ]
  },
  {
   "cell_type": "code",
   "execution_count": 11,
   "metadata": {},
   "outputs": [
    {
     "data": {
      "text/plain": [
       "<AxesSubplot:>"
      ]
     },
     "execution_count": 11,
     "metadata": {},
     "output_type": "execute_result"
    },
    {
     "data": {
      "image/png": "[encoded data removed]",
      "text/plain": [
       "<Figure size 432x288 with 2 Axes>"
      ]
     },
     "metadata": {
      "needs_background": "light"
     },
     "output_type": "display_data"
    }
   ],
   "source": [
    "sns.heatmap(iris_df.corr())"
   ]
  },
  {
   "cell_type": "code",
   "execution_count": 27,
   "metadata": {},
   "outputs": [],
   "source": [
    "#convert the species column to category"
   ]
  },
  {
   "cell_type": "code",
   "execution_count": 19,
   "metadata": {},
   "outputs": [],
   "source": [
    "def category_iris(x):\n",
    "    if x == 'setosa':\n",
    "        return 0\n",
    "    elif x == 'versicolor':\n",
    "        return 1\n",
    "    else :\n",
    "        return 2"
   ]
  },
  {
   "cell_type": "code",
   "execution_count": 20,
   "metadata": {},
   "outputs": [],
   "source": [
    "iris_df['species_cat'] = iris_df['species'].apply(category_iris)"
   ]
  },
  {
   "cell_type": "code",
   "execution_count": 22,
   "metadata": {},
   "outputs": [],
   "source": [
    "iris_df_new = iris_df.copy()"
   ]
  },
  {
   "cell_type": "code",
   "execution_count": 25,
   "metadata": {},
   "outputs": [],
   "source": [
    "iris_df_new.drop(['species'],axis=1,inplace=True)"
   ]
  },
  {
   "cell_type": "code",
   "execution_count": 28,
   "metadata": {},
   "outputs": [],
   "source": [
    "#x and y for model"
   ]
  },
  {
   "cell_type": "code",
   "execution_count": 50,
   "metadata": {},
   "outputs": [],
   "source": [
    "X = iris_df_new.drop(['species_cat'],axis=1).values\n",
    "y = iris_df_new['species_cat'].values"
   ]
  },
  {
   "cell_type": "code",
   "execution_count": 51,
   "metadata": {},
   "outputs": [],
   "source": [
    "X_train,X_test,y_train,y_test = train_test_split(X,y,test_size=0.25,random_state=101)"
   ]
  },
  {
   "cell_type": "code",
   "execution_count": 52,
   "metadata": {},
   "outputs": [
    {
     "data": {
      "text/plain": [
       "((112, 4), (38, 4))"
      ]
     },
     "execution_count": 52,
     "metadata": {},
     "output_type": "execute_result"
    }
   ],
   "source": [
    "X_train.shape,X_test.shape"
   ]
  },
  {
   "cell_type": "code",
   "execution_count": 53,
   "metadata": {},
   "outputs": [],
   "source": [
    "#scaling the data"
   ]
  },
  {
   "cell_type": "code",
   "execution_count": 54,
   "metadata": {},
   "outputs": [],
   "source": [
    "scaler = MinMaxScaler()"
   ]
  },
  {
   "cell_type": "code",
   "execution_count": 55,
   "metadata": {},
   "outputs": [
    {
     "data": {
      "text/plain": [
       "MinMaxScaler()"
      ]
     },
     "execution_count": 55,
     "metadata": {},
     "output_type": "execute_result"
    }
   ],
   "source": [
    "scaler.fit(X_train)"
   ]
  },
  {
   "cell_type": "code",
   "execution_count": 56,
   "metadata": {},
   "outputs": [],
   "source": [
    "X_train = scaler.transform(X_train)\n",
    "X_test = scaler.transform(X_test)"
   ]
  },
  {
   "cell_type": "code",
   "execution_count": 59,
   "metadata": {},
   "outputs": [],
   "source": [
    "#convert to categorical"
   ]
  },
  {
   "cell_type": "code",
   "execution_count": 60,
   "metadata": {},
   "outputs": [],
   "source": [
    "from keras.utils.np_utils import to_categorical"
   ]
  },
  {
   "cell_type": "code",
   "execution_count": 61,
   "metadata": {},
   "outputs": [],
   "source": [
    "y_train = to_categorical(y_train,3)\n",
    "y_test = to_categorical(y_test,3)"
   ]
  },
  {
   "cell_type": "code",
   "execution_count": 62,
   "metadata": {},
   "outputs": [],
   "source": [
    "model = Sequential()\n",
    "model.add(Dense(1000,input_dim=4,activation='relu'))\n",
    "model.add(Dense(500,activation='relu'))\n",
    "model.add(Dense(300,activation='relu'))\n",
    "model.add(Dense(3,activation='softmax'))\n",
    "model.compile(optimizer='rmsprop',loss='categorical_crossentropy',metrics='accuracy')"
   ]
  },
  {
   "cell_type": "code",
   "execution_count": 63,
   "metadata": {},
   "outputs": [
    {
     "name": "stdout",
     "output_type": "stream",
     "text": [
      "Epoch 1/30\n",
      "4/4 [==============================] - 2s 252ms/step - loss: 0.9976 - accuracy: 0.5296 - val_loss: 0.7072 - val_accuracy: 0.5526\n",
      "Epoch 2/30\n",
      "4/4 [==============================] - 0s 49ms/step - loss: 0.5373 - accuracy: 0.7299 - val_loss: 0.5225 - val_accuracy: 0.7632\n",
      "Epoch 3/30\n",
      "4/4 [==============================] - 0s 50ms/step - loss: 0.5132 - accuracy: 0.6708 - val_loss: 0.4872 - val_accuracy: 0.7368\n",
      "Epoch 4/30\n",
      "4/4 [==============================] - 0s 48ms/step - loss: 0.4397 - accuracy: 0.6827 - val_loss: 0.4886 - val_accuracy: 0.7105\n",
      "Epoch 5/30\n",
      "4/4 [==============================] - 0s 63ms/step - loss: 0.4068 - accuracy: 0.7312 - val_loss: 0.4032 - val_accuracy: 0.7632\n",
      "Epoch 6/30\n",
      "4/4 [==============================] - 0s 59ms/step - loss: 0.3627 - accuracy: 0.8068 - val_loss: 0.4351 - val_accuracy: 0.7632\n",
      "Epoch 7/30\n",
      "4/4 [==============================] - 0s 55ms/step - loss: 0.3140 - accuracy: 0.8475 - val_loss: 0.4076 - val_accuracy: 0.7895\n",
      "Epoch 8/30\n",
      "4/4 [==============================] - 0s 51ms/step - loss: 0.3934 - accuracy: 0.8275 - val_loss: 0.5188 - val_accuracy: 0.7368\n",
      "Epoch 9/30\n",
      "4/4 [==============================] - 0s 57ms/step - loss: 0.5150 - accuracy: 0.7088 - val_loss: 0.3118 - val_accuracy: 0.8684\n",
      "Epoch 10/30\n",
      "4/4 [==============================] - 0s 55ms/step - loss: 0.2506 - accuracy: 0.9412 - val_loss: 0.4292 - val_accuracy: 0.7368\n",
      "Epoch 11/30\n",
      "4/4 [==============================] - 0s 57ms/step - loss: 0.2545 - accuracy: 0.8801 - val_loss: 0.2910 - val_accuracy: 0.9211\n",
      "Epoch 12/30\n",
      "4/4 [==============================] - 0s 56ms/step - loss: 0.2938 - accuracy: 0.8359 - val_loss: 0.2239 - val_accuracy: 0.9211\n",
      "Epoch 13/30\n",
      "4/4 [==============================] - 0s 52ms/step - loss: 0.1955 - accuracy: 0.9318 - val_loss: 0.2390 - val_accuracy: 0.9474\n",
      "Epoch 14/30\n",
      "4/4 [==============================] - 0s 53ms/step - loss: 0.1727 - accuracy: 0.9525 - val_loss: 0.3059 - val_accuracy: 0.8684\n",
      "Epoch 15/30\n",
      "4/4 [==============================] - 0s 51ms/step - loss: 0.3835 - accuracy: 0.8226 - val_loss: 0.1891 - val_accuracy: 0.9211\n",
      "Epoch 16/30\n",
      "4/4 [==============================] - 0s 55ms/step - loss: 0.1315 - accuracy: 0.9519 - val_loss: 0.1642 - val_accuracy: 0.9474\n",
      "Epoch 17/30\n",
      "4/4 [==============================] - 0s 56ms/step - loss: 0.2515 - accuracy: 0.8976 - val_loss: 0.1894 - val_accuracy: 0.9474\n",
      "Epoch 18/30\n",
      "4/4 [==============================] - 0s 56ms/step - loss: 0.1452 - accuracy: 0.9457 - val_loss: 0.1550 - val_accuracy: 0.9211\n",
      "Epoch 19/30\n",
      "4/4 [==============================] - 0s 52ms/step - loss: 0.1364 - accuracy: 0.9448 - val_loss: 0.2857 - val_accuracy: 0.8947\n",
      "Epoch 20/30\n",
      "4/4 [==============================] - 0s 56ms/step - loss: 0.2579 - accuracy: 0.8786 - val_loss: 0.1497 - val_accuracy: 0.9737\n",
      "Epoch 21/30\n",
      "4/4 [==============================] - 0s 59ms/step - loss: 0.1189 - accuracy: 0.9571 - val_loss: 0.3514 - val_accuracy: 0.8421\n",
      "Epoch 22/30\n",
      "4/4 [==============================] - 0s 51ms/step - loss: 0.3863 - accuracy: 0.8371 - val_loss: 0.1546 - val_accuracy: 0.9211\n",
      "Epoch 23/30\n",
      "4/4 [==============================] - 0s 70ms/step - loss: 0.0962 - accuracy: 0.9799 - val_loss: 0.1531 - val_accuracy: 0.9474\n",
      "Epoch 24/30\n",
      "4/4 [==============================] - 0s 65ms/step - loss: 0.1168 - accuracy: 0.9555 - val_loss: 0.1237 - val_accuracy: 0.9737\n",
      "Epoch 25/30\n",
      "4/4 [==============================] - 0s 50ms/step - loss: 0.0901 - accuracy: 0.9644 - val_loss: 0.1919 - val_accuracy: 0.8947\n",
      "Epoch 26/30\n",
      "4/4 [==============================] - 0s 71ms/step - loss: 0.1893 - accuracy: 0.9190 - val_loss: 0.1511 - val_accuracy: 0.9211\n",
      "Epoch 27/30\n",
      "4/4 [==============================] - 0s 52ms/step - loss: 0.1129 - accuracy: 0.9485 - val_loss: 0.1701 - val_accuracy: 0.9211\n",
      "Epoch 28/30\n",
      "4/4 [==============================] - 0s 61ms/step - loss: 0.0898 - accuracy: 0.9670 - val_loss: 0.2023 - val_accuracy: 0.9211\n",
      "Epoch 29/30\n",
      "4/4 [==============================] - 0s 55ms/step - loss: 0.1310 - accuracy: 0.9281 - val_loss: 0.2062 - val_accuracy: 0.8947\n",
      "Epoch 30/30\n",
      "4/4 [==============================] - 0s 63ms/step - loss: 0.0850 - accuracy: 0.9762 - val_loss: 0.1027 - val_accuracy: 0.9474\n"
     ]
    }
   ],
   "source": [
    "model_history = model.fit(X_train,y_train,epochs=30,verbose=1,validation_data=(X_test,y_test))"
   ]
  },
  {
   "cell_type": "code",
   "execution_count": 65,
   "metadata": {},
   "outputs": [],
   "source": [
    "model_hist = pd.DataFrame(model_history.history)"
   ]
  },
  {
   "cell_type": "code",
   "execution_count": 66,
   "metadata": {},
   "outputs": [
    {
     "data": {
      "text/plain": [
       "<AxesSubplot:>"
      ]
     },
     "execution_count": 66,
     "metadata": {},
     "output_type": "execute_result"
    },
    {
     "data": {
      "image/png": "[encoded data removed]",
      "text/plain": [
       "<Figure size 432x288 with 1 Axes>"
      ]
     },
     "metadata": {
      "needs_background": "light"
     },
     "output_type": "display_data"
    }
   ],
   "source": [
    "model_hist.plot()"
   ]
  },
  {
   "cell_type": "code",
   "execution_count": 77,
   "metadata": {},
   "outputs": [],
   "source": [
    "pred_model = model.predict(X_test)"
   ]
  },
  {
   "cell_type": "code",
   "execution_count": 78,
   "metadata": {},
   "outputs": [],
   "source": [
    "length = len(pred_model)\n",
    "y_label = np.argmax(y_test,axis=1)\n",
    "pred_label = np.argmax(pred_model,axis=1)\n",
    "accuracy = (np.sum(y_label==pred_label)/length)*100"
   ]
  },
  {
   "cell_type": "code",
   "execution_count": 79,
   "metadata": {},
   "outputs": [
    {
     "name": "stdout",
     "output_type": "stream",
     "text": [
      "accuracy is: 94.73684210526315\n"
     ]
    }
   ],
   "source": [
    "print(\"accuracy is:\",accuracy)"
   ]
  },
  {
   "cell_type": "code",
   "execution_count": 67,
   "metadata": {},
   "outputs": [],
   "source": [
    "#early stopping implementation"
   ]
  },
  {
   "cell_type": "code",
   "execution_count": 80,
   "metadata": {},
   "outputs": [],
   "source": [
    "model_early = Sequential()\n",
    "model_early.add(Dense(1000,input_dim=4,activation='relu'))\n",
    "model_early.add(Dense(500,activation='relu'))\n",
    "model_early.add(Dense(300,activation='relu'))\n",
    "model_early.add(Dense(3,activation='softmax'))\n",
    "model_early.compile(optimizer='rmsprop',loss='categorical_crossentropy',metrics='accuracy')"
   ]
  },
  {
   "cell_type": "code",
   "execution_count": 81,
   "metadata": {},
   "outputs": [],
   "source": [
    "early_stop = EarlyStopping(monitor='val_loss',mode='min',verbose=1,patience=25)"
   ]
  },
  {
   "cell_type": "code",
   "execution_count": 83,
   "metadata": {},
   "outputs": [
    {
     "name": "stdout",
     "output_type": "stream",
     "text": [
      "Epoch 1/300\n",
      "4/4 [==============================] - 0s 95ms/step - loss: 0.1494 - accuracy: 0.9464 - val_loss: 0.1135 - val_accuracy: 0.9474\n",
      "Epoch 2/300\n",
      "4/4 [==============================] - 0s 51ms/step - loss: 0.1490 - accuracy: 0.9554 - val_loss: 0.1748 - val_accuracy: 0.9211\n",
      "Epoch 3/300\n",
      "4/4 [==============================] - 0s 56ms/step - loss: 0.1724 - accuracy: 0.9286 - val_loss: 0.1431 - val_accuracy: 0.9211\n",
      "Epoch 4/300\n",
      "4/4 [==============================] - 0s 56ms/step - loss: 0.0843 - accuracy: 0.9643 - val_loss: 0.1085 - val_accuracy: 0.9737\n",
      "Epoch 5/300\n",
      "4/4 [==============================] - 0s 63ms/step - loss: 0.0988 - accuracy: 0.9464 - val_loss: 0.3177 - val_accuracy: 0.8158\n",
      "Epoch 6/300\n",
      "4/4 [==============================] - 0s 58ms/step - loss: 0.1304 - accuracy: 0.9554 - val_loss: 0.1001 - val_accuracy: 0.9474\n",
      "Epoch 7/300\n",
      "4/4 [==============================] - 0s 56ms/step - loss: 0.2151 - accuracy: 0.9018 - val_loss: 0.1101 - val_accuracy: 0.9474\n",
      "Epoch 8/300\n",
      "4/4 [==============================] - 0s 60ms/step - loss: 0.0724 - accuracy: 0.9732 - val_loss: 0.1586 - val_accuracy: 0.9211\n",
      "Epoch 9/300\n",
      "4/4 [==============================] - 0s 63ms/step - loss: 0.1271 - accuracy: 0.9554 - val_loss: 0.0989 - val_accuracy: 0.9474\n",
      "Epoch 10/300\n",
      "4/4 [==============================] - 0s 58ms/step - loss: 0.0547 - accuracy: 0.9732 - val_loss: 0.2751 - val_accuracy: 0.8684\n",
      "Epoch 11/300\n",
      "4/4 [==============================] - 0s 59ms/step - loss: 0.0727 - accuracy: 0.9821 - val_loss: 0.1429 - val_accuracy: 0.9211\n",
      "Epoch 12/300\n",
      "4/4 [==============================] - 0s 66ms/step - loss: 0.1868 - accuracy: 0.9464 - val_loss: 0.0967 - val_accuracy: 0.9737\n",
      "Epoch 13/300\n",
      "4/4 [==============================] - 0s 58ms/step - loss: 0.0696 - accuracy: 0.9643 - val_loss: 0.1669 - val_accuracy: 0.9474\n",
      "Epoch 14/300\n",
      "4/4 [==============================] - 0s 63ms/step - loss: 0.1874 - accuracy: 0.9286 - val_loss: 0.0928 - val_accuracy: 0.9737\n",
      "Epoch 15/300\n",
      "4/4 [==============================] - 0s 61ms/step - loss: 0.0773 - accuracy: 0.9821 - val_loss: 0.1160 - val_accuracy: 0.9211\n",
      "Epoch 16/300\n",
      "4/4 [==============================] - 0s 52ms/step - loss: 0.1810 - accuracy: 0.9018 - val_loss: 0.0881 - val_accuracy: 0.9737\n",
      "Epoch 17/300\n",
      "4/4 [==============================] - 0s 63ms/step - loss: 0.0776 - accuracy: 0.9554 - val_loss: 0.1998 - val_accuracy: 0.9211\n",
      "Epoch 18/300\n",
      "4/4 [==============================] - 0s 62ms/step - loss: 0.0902 - accuracy: 0.9732 - val_loss: 0.1506 - val_accuracy: 0.9474\n",
      "Epoch 19/300\n",
      "4/4 [==============================] - 0s 55ms/step - loss: 0.1110 - accuracy: 0.9464 - val_loss: 0.1674 - val_accuracy: 0.9474\n",
      "Epoch 20/300\n",
      "4/4 [==============================] - 0s 60ms/step - loss: 0.0511 - accuracy: 1.0000 - val_loss: 0.1298 - val_accuracy: 0.9211\n",
      "Epoch 21/300\n",
      "4/4 [==============================] - 0s 57ms/step - loss: 0.0920 - accuracy: 0.9554 - val_loss: 0.2996 - val_accuracy: 0.8947\n",
      "Epoch 22/300\n",
      "4/4 [==============================] - 0s 58ms/step - loss: 0.0724 - accuracy: 0.9732 - val_loss: 0.0914 - val_accuracy: 0.9474\n",
      "Epoch 23/300\n",
      "4/4 [==============================] - 0s 57ms/step - loss: 0.0746 - accuracy: 0.9554 - val_loss: 0.8504 - val_accuracy: 0.7895\n",
      "Epoch 24/300\n",
      "4/4 [==============================] - 0s 64ms/step - loss: 0.3253 - accuracy: 0.9018 - val_loss: 0.0823 - val_accuracy: 0.9737\n",
      "Epoch 25/300\n",
      "4/4 [==============================] - 0s 63ms/step - loss: 0.0785 - accuracy: 0.9464 - val_loss: 0.0842 - val_accuracy: 0.9737\n",
      "Epoch 26/300\n",
      "4/4 [==============================] - 0s 62ms/step - loss: 0.0682 - accuracy: 0.9643 - val_loss: 0.0879 - val_accuracy: 0.9474\n",
      "Epoch 27/300\n",
      "4/4 [==============================] - 0s 62ms/step - loss: 0.2114 - accuracy: 0.8929 - val_loss: 0.1700 - val_accuracy: 0.9211\n",
      "Epoch 28/300\n",
      "4/4 [==============================] - 0s 59ms/step - loss: 0.0851 - accuracy: 0.9821 - val_loss: 0.0838 - val_accuracy: 0.9737\n",
      "Epoch 29/300\n",
      "4/4 [==============================] - 0s 59ms/step - loss: 0.0750 - accuracy: 0.9643 - val_loss: 0.1379 - val_accuracy: 0.9474\n",
      "Epoch 30/300\n",
      "4/4 [==============================] - 0s 58ms/step - loss: 0.0602 - accuracy: 0.9821 - val_loss: 0.1595 - val_accuracy: 0.9474\n",
      "Epoch 31/300\n",
      "4/4 [==============================] - 0s 56ms/step - loss: 0.0712 - accuracy: 0.9732 - val_loss: 0.1516 - val_accuracy: 0.9474\n",
      "Epoch 32/300\n",
      "4/4 [==============================] - 0s 59ms/step - loss: 0.0723 - accuracy: 0.9821 - val_loss: 0.0755 - val_accuracy: 0.9737\n",
      "Epoch 33/300\n",
      "4/4 [==============================] - 0s 60ms/step - loss: 0.0922 - accuracy: 0.9732 - val_loss: 0.0730 - val_accuracy: 0.9737\n",
      "Epoch 34/300\n",
      "4/4 [==============================] - 0s 56ms/step - loss: 0.0709 - accuracy: 0.9554 - val_loss: 0.6453 - val_accuracy: 0.8158\n",
      "Epoch 35/300\n",
      "4/4 [==============================] - 0s 59ms/step - loss: 0.2405 - accuracy: 0.9286 - val_loss: 0.1069 - val_accuracy: 0.9474\n",
      "Epoch 36/300\n",
      "4/4 [==============================] - 0s 64ms/step - loss: 0.0682 - accuracy: 0.9643 - val_loss: 0.1107 - val_accuracy: 0.9737\n",
      "Epoch 37/300\n",
      "4/4 [==============================] - 0s 59ms/step - loss: 0.1357 - accuracy: 0.9286 - val_loss: 0.1340 - val_accuracy: 0.9474\n",
      "Epoch 38/300\n",
      "4/4 [==============================] - 0s 60ms/step - loss: 0.0832 - accuracy: 0.9554 - val_loss: 0.0835 - val_accuracy: 0.9474\n",
      "Epoch 39/300\n",
      "4/4 [==============================] - 0s 65ms/step - loss: 0.0566 - accuracy: 0.9732 - val_loss: 0.0731 - val_accuracy: 0.9737\n",
      "Epoch 40/300\n",
      "4/4 [==============================] - 0s 52ms/step - loss: 0.0664 - accuracy: 0.9821 - val_loss: 0.1587 - val_accuracy: 0.9211\n",
      "Epoch 41/300\n",
      "4/4 [==============================] - 0s 54ms/step - loss: 0.0401 - accuracy: 0.9821 - val_loss: 0.2833 - val_accuracy: 0.8947\n",
      "Epoch 42/300\n",
      "4/4 [==============================] - 0s 60ms/step - loss: 0.1251 - accuracy: 0.9643 - val_loss: 0.0758 - val_accuracy: 0.9737\n",
      "Epoch 43/300\n",
      "4/4 [==============================] - 0s 58ms/step - loss: 0.0773 - accuracy: 0.9732 - val_loss: 0.0742 - val_accuracy: 0.9737\n",
      "Epoch 44/300\n",
      "4/4 [==============================] - 0s 62ms/step - loss: 0.0594 - accuracy: 0.9821 - val_loss: 0.0711 - val_accuracy: 0.9737\n",
      "Epoch 45/300\n",
      "4/4 [==============================] - 0s 62ms/step - loss: 0.1220 - accuracy: 0.9464 - val_loss: 0.1934 - val_accuracy: 0.9211\n",
      "Epoch 46/300\n",
      "4/4 [==============================] - 0s 62ms/step - loss: 0.1782 - accuracy: 0.9464 - val_loss: 0.0742 - val_accuracy: 0.9737\n",
      "Epoch 47/300\n",
      "4/4 [==============================] - 0s 60ms/step - loss: 0.0593 - accuracy: 0.9643 - val_loss: 0.1267 - val_accuracy: 0.9211\n",
      "Epoch 48/300\n",
      "4/4 [==============================] - 0s 55ms/step - loss: 0.0948 - accuracy: 0.9643 - val_loss: 0.0667 - val_accuracy: 0.9737\n",
      "Epoch 49/300\n",
      "4/4 [==============================] - 0s 58ms/step - loss: 0.1628 - accuracy: 0.9286 - val_loss: 0.0744 - val_accuracy: 0.9737\n",
      "Epoch 50/300\n",
      "4/4 [==============================] - 0s 49ms/step - loss: 0.0731 - accuracy: 0.9643 - val_loss: 0.1600 - val_accuracy: 0.9211\n",
      "Epoch 51/300\n",
      "4/4 [==============================] - 0s 58ms/step - loss: 0.0631 - accuracy: 0.9732 - val_loss: 0.3663 - val_accuracy: 0.8421\n",
      "Epoch 52/300\n",
      "4/4 [==============================] - 0s 64ms/step - loss: 0.1052 - accuracy: 0.9643 - val_loss: 0.0848 - val_accuracy: 0.9474\n",
      "Epoch 53/300\n",
      "4/4 [==============================] - 0s 60ms/step - loss: 0.0507 - accuracy: 0.9732 - val_loss: 0.2693 - val_accuracy: 0.8947\n",
      "Epoch 54/300\n",
      "4/4 [==============================] - 0s 65ms/step - loss: 0.0865 - accuracy: 0.9732 - val_loss: 0.0848 - val_accuracy: 0.9737\n",
      "Epoch 55/300\n",
      "4/4 [==============================] - 0s 61ms/step - loss: 0.1013 - accuracy: 0.9643 - val_loss: 0.0932 - val_accuracy: 0.9474\n",
      "Epoch 56/300\n",
      "4/4 [==============================] - 0s 63ms/step - loss: 0.0661 - accuracy: 0.9821 - val_loss: 0.2960 - val_accuracy: 0.8684\n",
      "Epoch 57/300\n",
      "4/4 [==============================] - 0s 58ms/step - loss: 0.1506 - accuracy: 0.9464 - val_loss: 0.1298 - val_accuracy: 0.9737\n",
      "Epoch 58/300\n",
      "4/4 [==============================] - 0s 65ms/step - loss: 0.1346 - accuracy: 0.9554 - val_loss: 0.0973 - val_accuracy: 0.9211\n",
      "Epoch 59/300\n",
      "4/4 [==============================] - 0s 59ms/step - loss: 0.0558 - accuracy: 0.9821 - val_loss: 0.1365 - val_accuracy: 0.9211\n",
      "Epoch 60/300\n",
      "4/4 [==============================] - 0s 59ms/step - loss: 0.0738 - accuracy: 0.9821 - val_loss: 0.0956 - val_accuracy: 0.9474\n",
      "Epoch 61/300\n",
      "4/4 [==============================] - 0s 65ms/step - loss: 0.0704 - accuracy: 0.9732 - val_loss: 0.0868 - val_accuracy: 0.9211\n",
      "Epoch 62/300\n",
      "4/4 [==============================] - 0s 62ms/step - loss: 0.0537 - accuracy: 0.9732 - val_loss: 0.0910 - val_accuracy: 0.9474\n",
      "Epoch 63/300\n",
      "4/4 [==============================] - 0s 54ms/step - loss: 0.0692 - accuracy: 0.9643 - val_loss: 0.1803 - val_accuracy: 0.9211\n",
      "Epoch 64/300\n",
      "4/4 [==============================] - 0s 61ms/step - loss: 0.0449 - accuracy: 0.9911 - val_loss: 0.1325 - val_accuracy: 0.9474\n",
      "Epoch 65/300\n",
      "4/4 [==============================] - 0s 53ms/step - loss: 0.0510 - accuracy: 0.9732 - val_loss: 0.4347 - val_accuracy: 0.8421\n",
      "Epoch 66/300\n",
      "4/4 [==============================] - 0s 56ms/step - loss: 0.1504 - accuracy: 0.9375 - val_loss: 0.0693 - val_accuracy: 0.9737\n",
      "Epoch 67/300\n",
      "4/4 [==============================] - 0s 61ms/step - loss: 0.0707 - accuracy: 0.9643 - val_loss: 0.0729 - val_accuracy: 0.9474\n",
      "Epoch 68/300\n",
      "4/4 [==============================] - 0s 59ms/step - loss: 0.0556 - accuracy: 0.9821 - val_loss: 0.1193 - val_accuracy: 0.9474\n",
      "Epoch 69/300\n",
      "4/4 [==============================] - 0s 58ms/step - loss: 0.1403 - accuracy: 0.9286 - val_loss: 0.1622 - val_accuracy: 0.8947\n",
      "Epoch 70/300\n",
      "4/4 [==============================] - 0s 58ms/step - loss: 0.0657 - accuracy: 0.9821 - val_loss: 0.1265 - val_accuracy: 0.9474\n",
      "Epoch 71/300\n",
      "4/4 [==============================] - 0s 64ms/step - loss: 0.0554 - accuracy: 0.9821 - val_loss: 0.2278 - val_accuracy: 0.8947\n",
      "Epoch 72/300\n",
      "4/4 [==============================] - 0s 63ms/step - loss: 0.0803 - accuracy: 0.9732 - val_loss: 0.1685 - val_accuracy: 0.9211\n",
      "Epoch 73/300\n",
      "4/4 [==============================] - 0s 56ms/step - loss: 0.0493 - accuracy: 0.9732 - val_loss: 0.2568 - val_accuracy: 0.8947\n",
      "Epoch 00073: early stopping\n"
     ]
    }
   ],
   "source": [
    "model_early_history = model_early.fit(X_train,y_train,epochs=300,verbose=1,validation_data=(X_test,y_test),callbacks=[early_stop])"
   ]
  },
  {
   "cell_type": "code",
   "execution_count": 84,
   "metadata": {},
   "outputs": [],
   "source": [
    "loss_earlystop = pd.DataFrame(model_early_history.history)"
   ]
  },
  {
   "cell_type": "code",
   "execution_count": 85,
   "metadata": {},
   "outputs": [
    {
     "data": {
      "text/plain": [
       "<AxesSubplot:>"
      ]
     },
     "execution_count": 85,
     "metadata": {},
     "output_type": "execute_result"
    },
    {
     "data": {
      "image/png": "[encoded data removed]",
      "text/plain": [
       "<Figure size 432x288 with 1 Axes>"
      ]
     },
     "metadata": {
      "needs_background": "light"
     },
     "output_type": "display_data"
    }
   ],
   "source": [
    "loss_earlystop.plot()"
   ]
  },
  {
   "cell_type": "code",
   "execution_count": 87,
   "metadata": {},
   "outputs": [],
   "source": [
    "pred_model_earlystop = model_early.predict(X_test)"
   ]
  },
  {
   "cell_type": "code",
   "execution_count": 88,
   "metadata": {},
   "outputs": [],
   "source": [
    "length = len(pred_model_earlystop)\n",
    "y_label = np.argmax(y_test,axis=1)\n",
    "pred_label = np.argmax(pred_model_earlystop,axis=1)\n",
    "accuracy = (np.sum(y_label==pred_label)/length)*100"
   ]
  },
  {
   "cell_type": "code",
   "execution_count": 89,
   "metadata": {},
   "outputs": [
    {
     "name": "stdout",
     "output_type": "stream",
     "text": [
      "accuracy is : 89.47368421052632\n"
     ]
    }
   ],
   "source": [
    "print(\"accuracy is :\",accuracy)"
   ]
  },
  {
   "cell_type": "code",
   "execution_count": 90,
   "metadata": {},
   "outputs": [],
   "source": [
    "#dropout"
   ]
  },
  {
   "cell_type": "code",
   "execution_count": 91,
   "metadata": {},
   "outputs": [],
   "source": [
    "model_dropout = Sequential()\n",
    "model_dropout.add(Dense(1000,input_dim=4,activation='relu'))\n",
    "model.add(Dropout(0.5))\n",
    "\n",
    "model_dropout.add(Dense(500,activation='relu'))\n",
    "model.add(Dropout(0.5))\n",
    "\n",
    "model_dropout.add(Dense(300,activation='relu'))\n",
    "model.add(Dropout(0.5))\n",
    "\n",
    "model_dropout.add(Dense(3,activation='softmax'))\n",
    "model_dropout.compile(optimizer='rmsprop',loss='categorical_crossentropy',metrics='accuracy')"
   ]
  },
  {
   "cell_type": "code",
   "execution_count": 92,
   "metadata": {},
   "outputs": [],
   "source": [
    "early_stop = EarlyStopping(monitor='val_loss',mode='min',verbose=1,patience=25)"
   ]
  },
  {
   "cell_type": "code",
   "execution_count": 94,
   "metadata": {},
   "outputs": [
    {
     "name": "stdout",
     "output_type": "stream",
     "text": [
      "Epoch 1/300\n",
      "4/4 [==============================] - 2s 200ms/step - loss: 1.0136 - accuracy: 0.4844 - val_loss: 0.7818 - val_accuracy: 0.5526\n",
      "Epoch 2/300\n",
      "4/4 [==============================] - 0s 52ms/step - loss: 0.5905 - accuracy: 0.6960 - val_loss: 0.5821 - val_accuracy: 0.5526\n",
      "Epoch 3/300\n",
      "4/4 [==============================] - 0s 54ms/step - loss: 0.4795 - accuracy: 0.7068 - val_loss: 0.5122 - val_accuracy: 0.5526\n",
      "Epoch 4/300\n",
      "4/4 [==============================] - 0s 50ms/step - loss: 0.3746 - accuracy: 0.7955 - val_loss: 0.5362 - val_accuracy: 0.5526\n",
      "Epoch 5/300\n",
      "4/4 [==============================] - 0s 53ms/step - loss: 0.4922 - accuracy: 0.6025 - val_loss: 0.4809 - val_accuracy: 0.6316\n",
      "Epoch 6/300\n",
      "4/4 [==============================] - 0s 56ms/step - loss: 0.3610 - accuracy: 0.8098 - val_loss: 0.3752 - val_accuracy: 0.8421\n",
      "Epoch 7/300\n",
      "4/4 [==============================] - 0s 49ms/step - loss: 0.4154 - accuracy: 0.8228 - val_loss: 0.7027 - val_accuracy: 0.5526\n",
      "Epoch 8/300\n",
      "4/4 [==============================] - 0s 57ms/step - loss: 0.4394 - accuracy: 0.7673 - val_loss: 0.4146 - val_accuracy: 0.7895\n",
      "Epoch 9/300\n",
      "4/4 [==============================] - 0s 50ms/step - loss: 0.3180 - accuracy: 0.8365 - val_loss: 0.2968 - val_accuracy: 0.9211\n",
      "Epoch 10/300\n",
      "4/4 [==============================] - 0s 55ms/step - loss: 0.2811 - accuracy: 0.8906 - val_loss: 0.2876 - val_accuracy: 0.8684\n",
      "Epoch 11/300\n",
      "4/4 [==============================] - 0s 53ms/step - loss: 0.2490 - accuracy: 0.9016 - val_loss: 0.5796 - val_accuracy: 0.5526\n",
      "Epoch 12/300\n",
      "4/4 [==============================] - 0s 50ms/step - loss: 0.3324 - accuracy: 0.8344 - val_loss: 0.2426 - val_accuracy: 0.8947\n",
      "Epoch 13/300\n",
      "4/4 [==============================] - 0s 52ms/step - loss: 0.2040 - accuracy: 0.9070 - val_loss: 0.2052 - val_accuracy: 0.9211\n",
      "Epoch 14/300\n",
      "4/4 [==============================] - 0s 53ms/step - loss: 0.2447 - accuracy: 0.8958 - val_loss: 0.3046 - val_accuracy: 0.8421\n",
      "Epoch 15/300\n",
      "4/4 [==============================] - 0s 54ms/step - loss: 0.3244 - accuracy: 0.8810 - val_loss: 0.2065 - val_accuracy: 0.8947\n",
      "Epoch 16/300\n",
      "4/4 [==============================] - ETA: 0s - loss: 0.2326 - accuracy: 0.90 - 0s 49ms/step - loss: 0.2268 - accuracy: 0.9085 - val_loss: 0.1883 - val_accuracy: 0.8947\n",
      "Epoch 17/300\n",
      "4/4 [==============================] - 0s 57ms/step - loss: 0.1997 - accuracy: 0.9079 - val_loss: 0.1669 - val_accuracy: 0.9474\n",
      "Epoch 18/300\n",
      "4/4 [==============================] - 0s 53ms/step - loss: 0.1361 - accuracy: 0.9427 - val_loss: 0.3124 - val_accuracy: 0.8421\n",
      "Epoch 19/300\n",
      "4/4 [==============================] - 0s 53ms/step - loss: 0.3391 - accuracy: 0.8521 - val_loss: 0.1597 - val_accuracy: 0.9211\n",
      "Epoch 20/300\n",
      "4/4 [==============================] - 0s 53ms/step - loss: 0.1193 - accuracy: 0.9557 - val_loss: 0.1435 - val_accuracy: 0.9737\n",
      "Epoch 21/300\n",
      "4/4 [==============================] - 1s 336ms/step - loss: 0.2505 - accuracy: 0.8583 - val_loss: 0.4990 - val_accuracy: 0.6842\n",
      "Epoch 22/300\n",
      "4/4 [==============================] - 0s 65ms/step - loss: 0.4032 - accuracy: 0.7757 - val_loss: 0.1469 - val_accuracy: 0.9737\n",
      "Epoch 23/300\n",
      "4/4 [==============================] - 0s 52ms/step - loss: 0.1027 - accuracy: 0.9661 - val_loss: 0.3274 - val_accuracy: 0.8684\n",
      "Epoch 24/300\n",
      "4/4 [==============================] - 0s 53ms/step - loss: 0.2983 - accuracy: 0.8810 - val_loss: 0.1364 - val_accuracy: 0.9737\n",
      "Epoch 25/300\n",
      "4/4 [==============================] - 0s 51ms/step - loss: 0.1188 - accuracy: 0.9400 - val_loss: 0.1258 - val_accuracy: 0.9737\n",
      "Epoch 26/300\n",
      "4/4 [==============================] - 0s 47ms/step - loss: 0.0961 - accuracy: 0.9618 - val_loss: 0.1203 - val_accuracy: 0.9737\n",
      "Epoch 27/300\n",
      "4/4 [==============================] - 0s 59ms/step - loss: 0.1791 - accuracy: 0.9210 - val_loss: 0.1638 - val_accuracy: 0.8947\n",
      "Epoch 28/300\n",
      "4/4 [==============================] - 0s 54ms/step - loss: 0.1460 - accuracy: 0.9310 - val_loss: 0.2508 - val_accuracy: 0.8947\n",
      "Epoch 29/300\n",
      "4/4 [==============================] - 0s 47ms/step - loss: 0.1856 - accuracy: 0.8671 - val_loss: 0.3770 - val_accuracy: 0.7895\n",
      "Epoch 30/300\n",
      "4/4 [==============================] - 0s 64ms/step - loss: 0.2519 - accuracy: 0.8716 - val_loss: 0.1126 - val_accuracy: 0.9737\n",
      "Epoch 31/300\n",
      "4/4 [==============================] - 0s 53ms/step - loss: 0.0711 - accuracy: 0.9763 - val_loss: 0.1731 - val_accuracy: 0.8947\n",
      "Epoch 32/300\n",
      "4/4 [==============================] - 0s 56ms/step - loss: 0.0843 - accuracy: 0.9793 - val_loss: 0.0987 - val_accuracy: 0.9737\n",
      "Epoch 33/300\n",
      "4/4 [==============================] - 0s 52ms/step - loss: 0.0547 - accuracy: 0.9799 - val_loss: 0.0942 - val_accuracy: 0.9737\n",
      "Epoch 34/300\n",
      "4/4 [==============================] - 0s 53ms/step - loss: 0.1089 - accuracy: 0.9707 - val_loss: 0.1242 - val_accuracy: 0.9737\n",
      "Epoch 35/300\n",
      "4/4 [==============================] - 0s 48ms/step - loss: 0.1049 - accuracy: 0.9726 - val_loss: 0.3740 - val_accuracy: 0.8684\n",
      "Epoch 36/300\n",
      "4/4 [==============================] - 0s 50ms/step - loss: 0.1475 - accuracy: 0.9317 - val_loss: 0.1431 - val_accuracy: 0.9211\n",
      "Epoch 37/300\n",
      "4/4 [==============================] - 0s 52ms/step - loss: 0.1277 - accuracy: 0.9376 - val_loss: 0.1025 - val_accuracy: 0.9211\n",
      "Epoch 38/300\n",
      "4/4 [==============================] - 0s 57ms/step - loss: 0.0878 - accuracy: 0.9546 - val_loss: 0.2265 - val_accuracy: 0.9211\n",
      "Epoch 39/300\n",
      "4/4 [==============================] - 0s 58ms/step - loss: 0.1635 - accuracy: 0.9198 - val_loss: 0.0934 - val_accuracy: 0.9474\n",
      "Epoch 40/300\n",
      "4/4 [==============================] - 0s 52ms/step - loss: 0.0847 - accuracy: 0.9649 - val_loss: 0.0991 - val_accuracy: 0.9737\n",
      "Epoch 41/300\n",
      "4/4 [==============================] - 0s 57ms/step - loss: 0.0997 - accuracy: 0.9618 - val_loss: 0.0865 - val_accuracy: 0.9737\n",
      "Epoch 42/300\n",
      "4/4 [==============================] - 0s 56ms/step - loss: 0.0854 - accuracy: 0.9499 - val_loss: 0.0854 - val_accuracy: 0.9737\n",
      "Epoch 43/300\n",
      "4/4 [==============================] - 0s 50ms/step - loss: 0.1034 - accuracy: 0.9613 - val_loss: 0.0829 - val_accuracy: 0.9737\n",
      "Epoch 44/300\n",
      "4/4 [==============================] - 0s 54ms/step - loss: 0.0473 - accuracy: 0.9768 - val_loss: 0.1832 - val_accuracy: 0.9211\n",
      "Epoch 45/300\n",
      "4/4 [==============================] - 0s 54ms/step - loss: 0.1409 - accuracy: 0.9524 - val_loss: 0.0795 - val_accuracy: 0.9737\n",
      "Epoch 46/300\n",
      "4/4 [==============================] - 0s 56ms/step - loss: 0.0692 - accuracy: 0.9555 - val_loss: 0.0727 - val_accuracy: 0.9737\n",
      "Epoch 47/300\n",
      "4/4 [==============================] - 0s 50ms/step - loss: 0.1284 - accuracy: 0.9525 - val_loss: 0.0937 - val_accuracy: 0.9737\n",
      "Epoch 48/300\n",
      "4/4 [==============================] - 0s 49ms/step - loss: 0.1075 - accuracy: 0.9649 - val_loss: 0.1206 - val_accuracy: 0.9474\n",
      "Epoch 49/300\n",
      "4/4 [==============================] - 0s 48ms/step - loss: 0.0733 - accuracy: 0.9856 - val_loss: 0.0828 - val_accuracy: 0.9474\n",
      "Epoch 50/300\n",
      "4/4 [==============================] - 0s 51ms/step - loss: 0.1033 - accuracy: 0.9379 - val_loss: 0.1107 - val_accuracy: 0.9211\n",
      "Epoch 51/300\n",
      "4/4 [==============================] - 0s 61ms/step - loss: 0.0757 - accuracy: 0.9699 - val_loss: 0.0768 - val_accuracy: 0.9474\n",
      "Epoch 52/300\n",
      "4/4 [==============================] - 0s 57ms/step - loss: 0.0488 - accuracy: 0.9737 - val_loss: 0.0780 - val_accuracy: 0.9737\n",
      "Epoch 53/300\n",
      "4/4 [==============================] - 0s 58ms/step - loss: 0.0700 - accuracy: 0.9762 - val_loss: 0.0933 - val_accuracy: 0.9211\n",
      "Epoch 54/300\n",
      "4/4 [==============================] - 0s 55ms/step - loss: 0.0805 - accuracy: 0.9768 - val_loss: 0.0847 - val_accuracy: 0.9737\n",
      "Epoch 55/300\n",
      "4/4 [==============================] - 0s 52ms/step - loss: 0.3071 - accuracy: 0.9015 - val_loss: 0.0689 - val_accuracy: 0.9737\n",
      "Epoch 56/300\n",
      "4/4 [==============================] - 0s 56ms/step - loss: 0.0703 - accuracy: 0.9643 - val_loss: 0.1708 - val_accuracy: 0.9211\n",
      "Epoch 57/300\n",
      "4/4 [==============================] - ETA: 0s - loss: 0.0395 - accuracy: 0.99 - 0s 52ms/step - loss: 0.0462 - accuracy: 0.9908 - val_loss: 0.0904 - val_accuracy: 0.9737\n",
      "Epoch 58/300\n",
      "4/4 [==============================] - 0s 61ms/step - loss: 0.1188 - accuracy: 0.9499 - val_loss: 0.0851 - val_accuracy: 0.9211\n",
      "Epoch 59/300\n",
      "4/4 [==============================] - 0s 56ms/step - loss: 0.0717 - accuracy: 0.9726 - val_loss: 0.2293 - val_accuracy: 0.9211\n",
      "Epoch 60/300\n",
      "4/4 [==============================] - 0s 50ms/step - loss: 0.0895 - accuracy: 0.9582 - val_loss: 0.1264 - val_accuracy: 0.9737\n",
      "Epoch 61/300\n",
      "4/4 [==============================] - 0s 55ms/step - loss: 0.1680 - accuracy: 0.9354 - val_loss: 0.4351 - val_accuracy: 0.8684\n",
      "Epoch 62/300\n",
      "4/4 [==============================] - 0s 68ms/step - loss: 0.2019 - accuracy: 0.9219 - val_loss: 0.0763 - val_accuracy: 0.9737\n",
      "Epoch 63/300\n",
      "4/4 [==============================] - 0s 63ms/step - loss: 0.0582 - accuracy: 0.9607 - val_loss: 0.1167 - val_accuracy: 0.9474\n",
      "Epoch 64/300\n",
      "4/4 [==============================] - 0s 50ms/step - loss: 0.0475 - accuracy: 0.9820 - val_loss: 0.3308 - val_accuracy: 0.8684\n",
      "Epoch 65/300\n",
      "4/4 [==============================] - 0s 55ms/step - loss: 0.1194 - accuracy: 0.9467 - val_loss: 0.0638 - val_accuracy: 0.9737\n",
      "Epoch 66/300\n",
      "4/4 [==============================] - 0s 52ms/step - loss: 0.0956 - accuracy: 0.9555 - val_loss: 0.0616 - val_accuracy: 0.9737\n",
      "Epoch 67/300\n",
      "4/4 [==============================] - 0s 53ms/step - loss: 0.0786 - accuracy: 0.9426 - val_loss: 0.2127 - val_accuracy: 0.9211\n",
      "Epoch 68/300\n",
      "4/4 [==============================] - 0s 56ms/step - loss: 0.0657 - accuracy: 0.9649 - val_loss: 0.1923 - val_accuracy: 0.9211\n",
      "Epoch 69/300\n",
      "4/4 [==============================] - 0s 53ms/step - loss: 0.1091 - accuracy: 0.9762 - val_loss: 0.1753 - val_accuracy: 0.9211\n",
      "Epoch 70/300\n",
      "4/4 [==============================] - 0s 57ms/step - loss: 0.0673 - accuracy: 0.9665 - val_loss: 0.8742 - val_accuracy: 0.7632\n",
      "Epoch 71/300\n",
      "4/4 [==============================] - 0s 53ms/step - loss: 0.3942 - accuracy: 0.8690 - val_loss: 0.0785 - val_accuracy: 0.9474\n",
      "Epoch 72/300\n",
      "4/4 [==============================] - 0s 59ms/step - loss: 0.0690 - accuracy: 0.9618 - val_loss: 0.0695 - val_accuracy: 0.9737\n",
      "Epoch 73/300\n",
      "4/4 [==============================] - 0s 51ms/step - loss: 0.0405 - accuracy: 0.9876 - val_loss: 0.1181 - val_accuracy: 0.9737\n",
      "Epoch 74/300\n",
      "4/4 [==============================] - 0s 52ms/step - loss: 0.1352 - accuracy: 0.9571 - val_loss: 0.0924 - val_accuracy: 0.9474\n",
      "Epoch 75/300\n",
      "4/4 [==============================] - 0s 50ms/step - loss: 0.0639 - accuracy: 0.9762 - val_loss: 0.1377 - val_accuracy: 0.9211\n",
      "Epoch 76/300\n",
      "4/4 [==============================] - 0s 53ms/step - loss: 0.1264 - accuracy: 0.9524 - val_loss: 0.0587 - val_accuracy: 0.9737\n",
      "Epoch 77/300\n",
      "4/4 [==============================] - 0s 54ms/step - loss: 0.0507 - accuracy: 0.9789 - val_loss: 0.2674 - val_accuracy: 0.8684\n",
      "Epoch 78/300\n",
      "4/4 [==============================] - 0s 57ms/step - loss: 0.1968 - accuracy: 0.9374 - val_loss: 0.0675 - val_accuracy: 0.9737\n",
      "Epoch 79/300\n",
      "4/4 [==============================] - 0s 54ms/step - loss: 0.0965 - accuracy: 0.9467 - val_loss: 0.0590 - val_accuracy: 0.9737\n",
      "Epoch 80/300\n",
      "4/4 [==============================] - 0s 59ms/step - loss: 0.0438 - accuracy: 0.9856 - val_loss: 0.1328 - val_accuracy: 0.9211\n",
      "Epoch 81/300\n",
      "4/4 [==============================] - 0s 55ms/step - loss: 0.0447 - accuracy: 0.9943 - val_loss: 0.0611 - val_accuracy: 0.9737\n",
      "Epoch 82/300\n",
      "4/4 [==============================] - 0s 55ms/step - loss: 0.1003 - accuracy: 0.9619 - val_loss: 0.1148 - val_accuracy: 0.9211\n",
      "Epoch 83/300\n",
      "4/4 [==============================] - 0s 53ms/step - loss: 0.0763 - accuracy: 0.9671 - val_loss: 0.0816 - val_accuracy: 0.9737\n",
      "Epoch 84/300\n",
      "4/4 [==============================] - 0s 49ms/step - loss: 0.0830 - accuracy: 0.9674 - val_loss: 0.0924 - val_accuracy: 0.9737\n",
      "Epoch 85/300\n",
      "4/4 [==============================] - 0s 60ms/step - loss: 0.0996 - accuracy: 0.9705 - val_loss: 0.0625 - val_accuracy: 0.9737\n",
      "Epoch 86/300\n",
      "4/4 [==============================] - 0s 52ms/step - loss: 0.0509 - accuracy: 0.9820 - val_loss: 0.1013 - val_accuracy: 0.9474\n",
      "Epoch 87/300\n",
      "4/4 [==============================] - 0s 53ms/step - loss: 0.0351 - accuracy: 0.9908 - val_loss: 0.0559 - val_accuracy: 0.9737\n",
      "Epoch 88/300\n",
      "4/4 [==============================] - 0s 52ms/step - loss: 0.0949 - accuracy: 0.9649 - val_loss: 0.0717 - val_accuracy: 0.9474\n",
      "Epoch 89/300\n",
      "4/4 [==============================] - 0s 55ms/step - loss: 0.0818 - accuracy: 0.9607 - val_loss: 0.1335 - val_accuracy: 0.9737\n",
      "Epoch 90/300\n",
      "4/4 [==============================] - 0s 62ms/step - loss: 0.1481 - accuracy: 0.9463 - val_loss: 0.1123 - val_accuracy: 0.9737\n",
      "Epoch 91/300\n",
      "4/4 [==============================] - 0s 61ms/step - loss: 0.0740 - accuracy: 0.9586 - val_loss: 0.0676 - val_accuracy: 1.0000\n",
      "Epoch 92/300\n",
      "4/4 [==============================] - 0s 42ms/step - loss: 0.0530 - accuracy: 0.9757 - val_loss: 0.1980 - val_accuracy: 0.9211\n",
      "Epoch 93/300\n",
      "4/4 [==============================] - 0s 54ms/step - loss: 0.0972 - accuracy: 0.9379 - val_loss: 0.0573 - val_accuracy: 0.9737\n",
      "Epoch 94/300\n",
      "4/4 [==============================] - 0s 61ms/step - loss: 0.0655 - accuracy: 0.9524 - val_loss: 0.1071 - val_accuracy: 0.9474\n",
      "Epoch 95/300\n",
      "4/4 [==============================] - 0s 55ms/step - loss: 0.0924 - accuracy: 0.9563 - val_loss: 0.0605 - val_accuracy: 0.9737\n",
      "Epoch 96/300\n",
      "4/4 [==============================] - 0s 58ms/step - loss: 0.0730 - accuracy: 0.9726 - val_loss: 0.3113 - val_accuracy: 0.8421\n",
      "Epoch 97/300\n",
      "4/4 [==============================] - 0s 48ms/step - loss: 0.1185 - accuracy: 0.9426 - val_loss: 0.0601 - val_accuracy: 0.9737\n",
      "Epoch 98/300\n",
      "4/4 [==============================] - 0s 79ms/step - loss: 0.0627 - accuracy: 0.9757 - val_loss: 0.1402 - val_accuracy: 0.9211\n",
      "Epoch 99/300\n",
      "4/4 [==============================] - 0s 54ms/step - loss: 0.0778 - accuracy: 0.9762 - val_loss: 0.0492 - val_accuracy: 0.9737\n",
      "Epoch 100/300\n",
      "4/4 [==============================] - 0s 47ms/step - loss: 0.1010 - accuracy: 0.9417 - val_loss: 0.0503 - val_accuracy: 0.9737\n",
      "Epoch 101/300\n",
      "4/4 [==============================] - 0s 52ms/step - loss: 0.0705 - accuracy: 0.9638 - val_loss: 0.2032 - val_accuracy: 0.8421\n",
      "Epoch 102/300\n",
      "4/4 [==============================] - 0s 53ms/step - loss: 0.0846 - accuracy: 0.9793 - val_loss: 0.1209 - val_accuracy: 0.9474\n",
      "Epoch 103/300\n",
      "4/4 [==============================] - 0s 59ms/step - loss: 0.0701 - accuracy: 0.9705 - val_loss: 0.0438 - val_accuracy: 1.0000\n",
      "Epoch 104/300\n",
      "4/4 [==============================] - 0s 53ms/step - loss: 0.0540 - accuracy: 0.9607 - val_loss: 0.0466 - val_accuracy: 0.9737\n",
      "Epoch 105/300\n",
      "4/4 [==============================] - 0s 56ms/step - loss: 0.0338 - accuracy: 0.9768 - val_loss: 0.1400 - val_accuracy: 0.8947\n",
      "Epoch 106/300\n",
      "4/4 [==============================] - 0s 55ms/step - loss: 0.0699 - accuracy: 0.9850 - val_loss: 0.0371 - val_accuracy: 1.0000\n",
      "Epoch 107/300\n",
      "4/4 [==============================] - 0s 52ms/step - loss: 0.2440 - accuracy: 0.9045 - val_loss: 0.2276 - val_accuracy: 0.8684\n",
      "Epoch 108/300\n",
      "4/4 [==============================] - 0s 54ms/step - loss: 0.0981 - accuracy: 0.9369 - val_loss: 0.0866 - val_accuracy: 0.9474\n",
      "Epoch 109/300\n",
      "4/4 [==============================] - 0s 52ms/step - loss: 0.0556 - accuracy: 0.9814 - val_loss: 0.1289 - val_accuracy: 0.9211\n",
      "Epoch 110/300\n",
      "4/4 [==============================] - 0s 54ms/step - loss: 0.0404 - accuracy: 0.9778 - val_loss: 0.0493 - val_accuracy: 1.0000\n",
      "Epoch 111/300\n",
      "4/4 [==============================] - 0s 49ms/step - loss: 0.0501 - accuracy: 0.9643 - val_loss: 0.0557 - val_accuracy: 0.9737\n",
      "Epoch 112/300\n",
      "4/4 [==============================] - 0s 49ms/step - loss: 0.0437 - accuracy: 0.9676 - val_loss: 0.0657 - val_accuracy: 0.9737\n",
      "Epoch 113/300\n",
      "4/4 [==============================] - 0s 57ms/step - loss: 0.0961 - accuracy: 0.9643 - val_loss: 0.0599 - val_accuracy: 0.9737\n",
      "Epoch 114/300\n",
      "4/4 [==============================] - 0s 54ms/step - loss: 0.0877 - accuracy: 0.9618 - val_loss: 0.0360 - val_accuracy: 0.9737\n",
      "Epoch 115/300\n",
      "4/4 [==============================] - 0s 55ms/step - loss: 0.0564 - accuracy: 0.9674 - val_loss: 0.1119 - val_accuracy: 0.9474\n",
      "Epoch 116/300\n"
     ]
    },
    {
     "name": "stdout",
     "output_type": "stream",
     "text": [
      "4/4 [==============================] - 0s 50ms/step - loss: 0.0926 - accuracy: 0.9555 - val_loss: 0.0553 - val_accuracy: 1.0000\n",
      "Epoch 117/300\n",
      "4/4 [==============================] - 0s 49ms/step - loss: 0.0567 - accuracy: 0.9763 - val_loss: 0.0508 - val_accuracy: 0.9737\n",
      "Epoch 118/300\n",
      "4/4 [==============================] - 0s 69ms/step - loss: 0.0693 - accuracy: 0.9793 - val_loss: 0.1674 - val_accuracy: 0.9211\n",
      "Epoch 119/300\n",
      "4/4 [==============================] - 0s 55ms/step - loss: 0.0549 - accuracy: 0.9705 - val_loss: 0.0405 - val_accuracy: 0.9737\n",
      "Epoch 120/300\n",
      "4/4 [==============================] - 0s 53ms/step - loss: 0.0330 - accuracy: 0.9768 - val_loss: 0.0486 - val_accuracy: 1.0000\n",
      "Epoch 121/300\n",
      "4/4 [==============================] - 0s 53ms/step - loss: 0.0449 - accuracy: 0.9856 - val_loss: 0.0674 - val_accuracy: 0.9474\n",
      "Epoch 122/300\n",
      "4/4 [==============================] - 0s 56ms/step - loss: 0.0537 - accuracy: 0.9799 - val_loss: 0.2095 - val_accuracy: 0.8947\n",
      "Epoch 123/300\n",
      "4/4 [==============================] - 0s 57ms/step - loss: 0.0460 - accuracy: 0.9737 - val_loss: 0.0513 - val_accuracy: 1.0000\n",
      "Epoch 124/300\n",
      "4/4 [==============================] - 0s 49ms/step - loss: 0.0309 - accuracy: 0.9912 - val_loss: 0.0893 - val_accuracy: 0.9474\n",
      "Epoch 125/300\n",
      "4/4 [==============================] - 0s 48ms/step - loss: 0.1117 - accuracy: 0.9650 - val_loss: 0.0410 - val_accuracy: 1.0000\n",
      "Epoch 126/300\n",
      "4/4 [==============================] - 0s 61ms/step - loss: 0.0487 - accuracy: 0.9762 - val_loss: 0.0381 - val_accuracy: 0.9737\n",
      "Epoch 127/300\n",
      "4/4 [==============================] - 0s 50ms/step - loss: 0.0283 - accuracy: 0.9841 - val_loss: 0.0630 - val_accuracy: 1.0000\n",
      "Epoch 128/300\n",
      "4/4 [==============================] - 0s 55ms/step - loss: 0.0476 - accuracy: 0.9674 - val_loss: 0.2178 - val_accuracy: 0.8947\n",
      "Epoch 129/300\n",
      "4/4 [==============================] - 0s 60ms/step - loss: 0.1552 - accuracy: 0.9374 - val_loss: 0.0609 - val_accuracy: 1.0000\n",
      "Epoch 130/300\n",
      "4/4 [==============================] - 0s 51ms/step - loss: 0.0451 - accuracy: 0.9762 - val_loss: 0.0655 - val_accuracy: 0.9474\n",
      "Epoch 131/300\n",
      "4/4 [==============================] - 0s 55ms/step - loss: 0.0896 - accuracy: 0.9582 - val_loss: 0.0584 - val_accuracy: 1.0000\n",
      "Epoch 132/300\n",
      "4/4 [==============================] - 0s 54ms/step - loss: 0.0323 - accuracy: 0.9856 - val_loss: 0.0701 - val_accuracy: 0.9474\n",
      "Epoch 133/300\n",
      "4/4 [==============================] - 0s 59ms/step - loss: 0.0396 - accuracy: 0.9943 - val_loss: 0.0513 - val_accuracy: 0.9737\n",
      "Epoch 134/300\n",
      "4/4 [==============================] - 0s 59ms/step - loss: 0.0845 - accuracy: 0.9613 - val_loss: 0.0635 - val_accuracy: 1.0000\n",
      "Epoch 135/300\n",
      "4/4 [==============================] - 0s 54ms/step - loss: 0.0549 - accuracy: 0.9762 - val_loss: 0.0513 - val_accuracy: 1.0000\n",
      "Epoch 136/300\n",
      "4/4 [==============================] - 0s 50ms/step - loss: 0.0434 - accuracy: 0.9762 - val_loss: 0.0524 - val_accuracy: 0.9737\n",
      "Epoch 137/300\n",
      "4/4 [==============================] - 0s 50ms/step - loss: 0.0657 - accuracy: 0.9612 - val_loss: 0.0793 - val_accuracy: 0.9737\n",
      "Epoch 138/300\n",
      "4/4 [==============================] - 0s 54ms/step - loss: 0.1133 - accuracy: 0.9582 - val_loss: 0.0997 - val_accuracy: 0.9474\n",
      "Epoch 139/300\n",
      "4/4 [==============================] - 0s 54ms/step - loss: 0.0499 - accuracy: 0.9643 - val_loss: 0.1089 - val_accuracy: 0.9211\n",
      "Epoch 00139: early stopping\n"
     ]
    }
   ],
   "source": [
    "model_drop = model_dropout.fit(X_train,y_train,epochs=300,verbose=1,validation_data=(X_test,y_test),callbacks=[early_stop])"
   ]
  },
  {
   "cell_type": "code",
   "execution_count": 95,
   "metadata": {},
   "outputs": [],
   "source": [
    "loss_drop = pd.DataFrame(model_drop.history)"
   ]
  },
  {
   "cell_type": "code",
   "execution_count": 96,
   "metadata": {},
   "outputs": [
    {
     "data": {
      "text/plain": [
       "<AxesSubplot:>"
      ]
     },
     "execution_count": 96,
     "metadata": {},
     "output_type": "execute_result"
    },
    {
     "data": {
      "image/png": "[encoded data removed]",
      "text/plain": [
       "<Figure size 432x288 with 1 Axes>"
      ]
     },
     "metadata": {
      "needs_background": "light"
     },
     "output_type": "display_data"
    }
   ],
   "source": [
    "loss_drop.plot()"
   ]
  },
  {
   "cell_type": "code",
   "execution_count": 97,
   "metadata": {},
   "outputs": [],
   "source": [
    "pred_model_drop = model_dropout.predict(X_test)"
   ]
  },
  {
   "cell_type": "code",
   "execution_count": 98,
   "metadata": {},
   "outputs": [],
   "source": [
    "length = len(pred_model_drop)\n",
    "y_label = np.argmax(y_test,axis=1)\n",
    "pred_label = np.argmax(pred_model_drop,axis=1)\n",
    "accuracy = (np.sum(y_label==pred_label)/length)*100"
   ]
  },
  {
   "cell_type": "code",
   "execution_count": 99,
   "metadata": {},
   "outputs": [
    {
     "name": "stdout",
     "output_type": "stream",
     "text": [
      "accuracy: 92.10526315789474\n"
     ]
    }
   ],
   "source": [
    "print('accuracy:',accuracy)"
   ]
  }
 ],
 "metadata": {
  "kernelspec": {
   "display_name": "Python 3",
   "language": "python",
   "name": "python3"
  },
  "language_info": {
   "codemirror_mode": {
    "name": "ipython",
    "version": 3
   },
   "file_extension": ".py",
   "mimetype": "text/x-python",
   "name": "python",
   "nbconvert_exporter": "python",
   "pygments_lexer": "ipython3",
   "version": "3.6.11"
  }
 },
 "nbformat": 4,
 "nbformat_minor": 4
}
